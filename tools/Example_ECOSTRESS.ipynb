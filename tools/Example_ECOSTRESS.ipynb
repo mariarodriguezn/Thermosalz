{
 "cells": [
  {
   "attachments": {},
   "cell_type": "markdown",
   "metadata": {},
   "source": [
    "## ECOSTRESS Module demostration\n",
    "The objective of this notebook is to serve as an example of how to work with the ECOSTRESS module, import and use the associated functions.\\\n",
    "ECOSTRESSS module is meant to help the users to interact with the NASA AppEEARS API to obtain and process ECOSTRESS satellite data"
   ]
  },
  {
   "attachments": {},
   "cell_type": "markdown",
   "metadata": {},
   "source": [
    "### Step 0: Import from the ECOSTRESS module the require functions"
   ]
  },
  {
   "cell_type": "code",
   "execution_count": 2,
   "metadata": {},
   "outputs": [],
   "source": [
    "from ECOSTRESS import *"
   ]
  },
  {
   "attachments": {},
   "cell_type": "markdown",
   "metadata": {},
   "source": [
    "### Step 1: Authentication - Generate a token\n",
    "The NASA AppEEARS API utilizes the authentication system employed by the NASA Earthdata Login. Therefore, in order to obtain the token required for authentication, users must have an account registered on the NASA Earthdata Portal, accessible at: https://www.earthdata.nasa.gov/."
   ]
  },
  {
   "cell_type": "code",
   "execution_count": 4,
   "metadata": {},
   "outputs": [],
   "source": [
    "token= get_token('mprodriguezn15')"
   ]
  },
  {
   "attachments": {},
   "cell_type": "markdown",
   "metadata": {},
   "source": [
    "### Step 2: Submit a task\n",
    "In this example, two requests are made to retrieve ECOSTRESS data for Salzburg, specifically for the summers of 2022 and 2023. The Salzburg geojson file used in this process was created using the website: https://geojson.io."
   ]
  },
  {
   "cell_type": "code",
   "execution_count": 5,
   "metadata": {},
   "outputs": [
    {
     "data": {
      "text/plain": [
       "{'task_id': 'bb2beb07-c5c8-459e-9641-7b24a6bb477e', 'status': 'pending'}"
      ]
     },
     "execution_count": 5,
     "metadata": {},
     "output_type": "execute_result"
    }
   ],
   "source": [
    "# REQUEST 1\n",
    "# Name of of the request\n",
    "request_name= \"Salzburg_Summer_22\"\n",
    "# Dates of interest 'MM-DD-YYYY'\n",
    "start_date = '06-01-2022'\n",
    "end_date = '08-31-2022'\n",
    "# Area of interest\n",
    "aoi = 'AOI.geojson'\n",
    "submit_task(token,request_name, start_date, end_date, aoi)"
   ]
  },
  {
   "cell_type": "code",
   "execution_count": 6,
   "metadata": {},
   "outputs": [
    {
     "data": {
      "text/plain": [
       "{'task_id': 'f52b9c8b-8586-4684-ab5a-70eb4024ef39', 'status': 'pending'}"
      ]
     },
     "execution_count": 6,
     "metadata": {},
     "output_type": "execute_result"
    }
   ],
   "source": [
    "# REQUEST 2\n",
    "# Name of of the requestS\n",
    "request_name= \"Salzburg_Summer_23\"\n",
    "# Dates of interest 'MM-DD-YYYY'\n",
    "start_date = '06-01-2023'\n",
    "end_date = '08-31-2023'\n",
    "# Area of interest\n",
    "aoi = 'AOI.geojson'\n",
    "submit_task(token,request_name, start_date, end_date, aoi)"
   ]
  },
  {
   "attachments": {},
   "cell_type": "markdown",
   "metadata": {},
   "source": [
    "### Step 3: Verify the info of all the tasks requested by an user account\n",
    "In the previous step, two tasks were submitted using the same user account. However, it is important to note that additional requests have been made by the same user before, as confirmed in the subsequent cell."
   ]
  },
  {
   "cell_type": "code",
   "execution_count": 4,
   "metadata": {},
   "outputs": [
    {
     "data": {
      "text/plain": [
       "[{'name': 'Salzburg_Summer_23',\n",
       "  'id': 'f52b9c8b-8586-4684-ab5a-70eb4024ef39',\n",
       "  'status': 'done'},\n",
       " {'name': 'Salzburg_Summer_22',\n",
       "  'id': 'bb2beb07-c5c8-459e-9641-7b24a6bb477e',\n",
       "  'status': 'done'},\n",
       " {'name': 'Salzburg_Winter_18_19',\n",
       "  'id': '1fedd3ed-a973-41b0-b353-22eeb02d6eac',\n",
       "  'status': 'expired'},\n",
       " {'name': 'Salzburg_Winter_19_20',\n",
       "  'id': '61879f9c-8b6e-4c27-8575-dd57b5b74cc5',\n",
       "  'status': 'expired'},\n",
       " {'name': 'Salzburg_Winter_20_21',\n",
       "  'id': 'fc7a007e-9e5d-4160-9468-c0d4a0d61f4c',\n",
       "  'status': 'expired'},\n",
       " {'name': 'Salzburg_Winter_21_22',\n",
       "  'id': '00dccee7-3043-48ff-84c1-af654d722df4',\n",
       "  'status': 'expired'},\n",
       " {'name': 'Salzburg_Winter_22_23',\n",
       "  'id': '650c6e3a-6893-4157-b42c-b1dd1d12eb41',\n",
       "  'status': 'expired'}]"
      ]
     },
     "execution_count": 4,
     "metadata": {},
     "output_type": "execute_result"
    }
   ],
   "source": [
    "list_tasks(token)"
   ]
  },
  {
   "attachments": {},
   "cell_type": "markdown",
   "metadata": {},
   "source": [
    "### Step 4: Download the data bundles of only the tasks of interest\n",
    "Although multiple tasks may exist for the user account, in this case, only the data bundles for the Summer of 2022 and 2023 are being downloaded. The files within these data bundles are being saved into separate folders named \"Salzburg_Summer_22_Raw\" and \"Salzburg_Summer_23_Raw\" respectively."
   ]
  },
  {
   "cell_type": "code",
   "execution_count": 5,
   "metadata": {},
   "outputs": [
    {
     "name": "stdout",
     "output_type": "stream",
     "text": [
      "Download for Task ID bb2beb07-c5c8-459e-9641-7b24a6bb477e corresponding to Task Name Salzburg_Summer_22 has been completed.\n",
      "Download for Task ID f52b9c8b-8586-4684-ab5a-70eb4024ef39 corresponding to Task Name Salzburg_Summer_23 has been completed.\n"
     ]
    }
   ],
   "source": [
    "list_task_id=['bb2beb07-c5c8-459e-9641-7b24a6bb477e', 'f52b9c8b-8586-4684-ab5a-70eb4024ef39']\n",
    "download_data_bundles(token, list_task_id)"
   ]
  },
  {
   "attachments": {},
   "cell_type": "markdown",
   "metadata": {},
   "source": [
    "### Step 5: Cloud mask the Ecostress raw images based on cloud files\n",
    "Now that all the raw images and their corresponding cloud mask files are stored in the \"Salzburg_Summer_22_Raw\" and \"Salzburg_Summer_23_Raw\" folders, these folders will be used as the input directories for the cloud masking process. The resulting cloud-masked TIFF images will be saved in new folders named \"Salzburg_Summer_22_Masked\" and \"Salzburg_Summer_23_Masked\" respectively."
   ]
  },
  {
   "cell_type": "code",
   "execution_count": 6,
   "metadata": {},
   "outputs": [
    {
     "name": "stdout",
     "output_type": "stream",
     "text": [
      "Salzburg_Summer_22_Raw\\ECO2LSTE.001_SDS_LST_doy2022152141303_aid0001.tif\n",
      "Masking for folder Salzburg_Summer_22_Raw has been completed.\n",
      "Salzburg_Summer_23_Raw\\ECO2LSTE.001_SDS_LST_doy2023154124542_aid0001.tif\n",
      "Masking for folder Salzburg_Summer_23_Raw has been completed.\n"
     ]
    }
   ],
   "source": [
    "list_folder_name=['Salzburg_Summer_22_Raw', 'Salzburg_Summer_23_Raw']\n",
    "apply_cloud_masking(list_folder_name)"
   ]
  },
  {
   "cell_type": "markdown",
   "metadata": {},
   "source": [
    "### Step 6: Create Summer Median Composites\n",
    "In the folders \"Salzburg_Summer_22_Masked\" and \"Salzburg_Summer_23_Masked,\" all Ecostress Images captured during the Summer periods of 2022 and 2023, respectively, are stored with applied cloud masking. Now two summer median composites are created, one for each folder, and stored in a new folder called \"Summer Median Composites\". This process aims to reduce noise and generate cleaner images that provide representative information about the whole summer period. The median statistic is selected due to its reduced sensitivity to outliers, offering valuable insights into the behavior of Land Surface Temperature during the summer season."
   ]
  },
  {
   "cell_type": "code",
   "execution_count": 7,
   "metadata": {},
   "outputs": [
    {
     "name": "stdout",
     "output_type": "stream",
     "text": [
      "Summer Median Composite for images in the folder Salzburg_Summer_22_Masked has been completed.\n",
      "Summer Median Composite for images in the folder Salzburg_Summer_23_Masked has been completed.\n"
     ]
    }
   ],
   "source": [
    "list_folder_name=['Salzburg_Summer_22_Masked','Salzburg_Summer_23_Masked']\n",
    "create_summer_median_composite(list_folder_name)"
   ]
  },
  {
   "cell_type": "markdown",
   "metadata": {},
   "source": [
    "### Step 7: Format Summer Median Composites according to the Cloud Optimized GeoTIFF (COG) best practices\n",
    "But, What are Cloud Optimized GeoTIFFs (COGs)?\n",
    "\n",
    "A Cloud Optimized GeoTIFF (COG) is a GeoTIFF file with an internal organization that enables more efficient workflows in the cloud environment.  It does this by leveraging the ability of clients issuing ​HTTP GET range requests to ask for just the parts of a file they need [Source: What are Cloud Optimized GeoTIFFs (COGs)? | U.S. Geological Survey (usgs.gov)](https://www.usgs.gov/faqs/what-are-cloud-optimized-geotiffs-cogs#:~:text=A%20Cloud%20Optimized%20GeoTIFF%20(COG,of%20a%20file%20they%20need.))\n",
    "\n",
    "More information can be checked in the following link: [Provider's Guide to COG (cogeo.org)](https://www.cogeo.org/providers-guide.html)\n",
    "\n",
    "The \"Summer Median Composites folder\" currently contains the composite images in TIFF format, which serves as the input source for converting all of them to the COG (Cloud-Optimized GeoTIFF) format."
   ]
  },
  {
   "cell_type": "code",
   "execution_count": 2,
   "metadata": {},
   "outputs": [
    {
     "name": "stdout",
     "output_type": "stream",
     "text": [
      "Summer Median Composite Median_Salzburg_Summer_22_Masked.tif was successfully format to COG.\n",
      "Summer Median Composite Median_Salzburg_Summer_23_Masked.tif was successfully format to COG.\n"
     ]
    }
   ],
   "source": [
    "folder_name = 'Summer Median Composites'\n",
    "format_median_composite_cog(folder_name)"
   ]
  },
  {
   "cell_type": "markdown",
   "metadata": {},
   "source": [
    "### Step 8 and 9: Create Hexagons with Zonal Statistics\n",
    "Please check the Example_HEXAGONS.ipynb notebook"
   ]
  }
 ],
 "metadata": {
  "kernelspec": {
   "display_name": "ecostress",
   "language": "python",
   "name": "python3"
  },
  "language_info": {
   "codemirror_mode": {
    "name": "ipython",
    "version": 3
   },
   "file_extension": ".py",
   "mimetype": "text/x-python",
   "name": "python",
   "nbconvert_exporter": "python",
   "pygments_lexer": "ipython3",
   "version": "3.11.3"
  },
  "orig_nbformat": 4
 },
 "nbformat": 4,
 "nbformat_minor": 2
}
