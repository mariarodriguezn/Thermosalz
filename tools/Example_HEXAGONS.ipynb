{
 "cells": [
  {
   "attachments": {},
   "cell_type": "markdown",
   "metadata": {},
   "source": [
    "## HEXAGONS Module demostration\n",
    "The objective of this notebook is to demonstrate the process of creating aggregation hexagons within a specified area of interest and calculating zonal statistics based on the summer median composites formatted with Cloud-Optimized GeoTIFF (COG) best practices.\n",
    "\n",
    "To effectively utilize this notebook, it is highly recommended to first review the \"Example_ECOSTRESS.ipynb\" notebook. It provides a detailed explanation of the seven-step process involved in generating the COG-formatted summer composites. By reviewing it, users can gain a comprehensive understanding of the entire workflow and learn how to adapt it to their specific needs."
   ]
  },
  {
   "cell_type": "markdown",
   "metadata": {},
   "source": [
    "### Step 8: Import from the HEXAGONS module the require functions"
   ]
  },
  {
   "cell_type": "code",
   "execution_count": 1,
   "metadata": {},
   "outputs": [],
   "source": [
    "from HEXAGONS import *"
   ]
  },
  {
   "cell_type": "markdown",
   "metadata": {},
   "source": [
    "### Step 9: Create Aggregation Hexagons geojson with Zonal Statistics"
   ]
  },
  {
   "cell_type": "markdown",
   "metadata": {},
   "source": [
    "Now that the cog summer composites are stored in the same folder, the goal is to create aggregation hexagons in the area of interest. These hexagons provide a concise summary and visual representation of Land Surface Temperature (LST) patterns observed across the study area.\n",
    "\n",
    "To achieve this, the process entails intersecting the hexagons with the summer composites and computing the average LST value for each hexagon. This analysis enables the identification of temperature variations and facilitates insights into areas with higher or lower temperatures."
   ]
  },
  {
   "cell_type": "code",
   "execution_count": 2,
   "metadata": {},
   "outputs": [],
   "source": [
    "# Define the directory path where the COG summer composites are located\n",
    "folder_name = \"Summer Median Composites\"\n",
    "\n",
    "# Define the path to the area of interest (.geojson) file\n",
    "aoi_geojson = \"AOI.geojson\"\n",
    "\n",
    "# Define Hexagons Size (from 0 to 15) Info: https://towardsdatascience.com/uber-h3-for-data-analysis-with-python-1e54acdcc908\n",
    "hexagons_size = 10"
   ]
  },
  {
   "cell_type": "code",
   "execution_count": 4,
   "metadata": {},
   "outputs": [
    {
     "name": "stdout",
     "output_type": "stream",
     "text": [
      "Hexagons geojson with statistics successfully created\n"
     ]
    }
   ],
   "source": [
    "create_hexagons_with_statistics(folder_name, aoi_geojson, hexagons_size)"
   ]
  }
 ],
 "metadata": {
  "kernelspec": {
   "display_name": "sentinel3_max",
   "language": "python",
   "name": "python3"
  },
  "language_info": {
   "codemirror_mode": {
    "name": "ipython",
    "version": 3
   },
   "file_extension": ".py",
   "mimetype": "text/x-python",
   "name": "python",
   "nbconvert_exporter": "python",
   "pygments_lexer": "ipython3",
   "version": "3.9.13"
  },
  "orig_nbformat": 4
 },
 "nbformat": 4,
 "nbformat_minor": 2
}
